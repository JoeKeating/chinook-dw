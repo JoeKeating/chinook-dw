{
 "cells": [
  {
   "cell_type": "code",
   "execution_count": 1,
   "id": "ca821ece-163a-4284-b3e9-a6b39492e8ac",
   "metadata": {},
   "outputs": [
    {
     "name": "stdout",
     "output_type": "stream",
     "text": [
      "9.9.2\n",
      "<class 'sqlalchemy.engine.base.Connection'>\n"
     ]
    }
   ],
   "source": [
    "from sqlalchemy import create_engine, text\n",
    "\n",
    "user = 'chinook_loader'\n",
    "password = 'Ga!st00k'\n",
    "account = 'pia97753.us-east-1'\n",
    "database = 'chinook'\n",
    "schema = 'landing'\n",
    "\n",
    "\n",
    "from sqlalchemy import create_engine\n",
    "\n",
    "engine = create_engine(\n",
    "    f'snowflake://{user}:{password}@{account}/'\n",
    "    )\n",
    "\n",
    "try:\n",
    "    connection = engine.connect()\n",
    "    results = connection.execute(text('select current_version()')).fetchone()\n",
    "    print(results[0])\n",
    "    print(type(connection))\n",
    "finally:\n",
    "    connection.close()\n",
    "    engine.dispose()"
   ]
  }
 ],
 "metadata": {
  "kernelspec": {
   "display_name": "Python 3 (ipykernel)",
   "language": "python",
   "name": "python3"
  },
  "language_info": {
   "codemirror_mode": {
    "name": "ipython",
    "version": 3
   },
   "file_extension": ".py",
   "mimetype": "text/x-python",
   "name": "python",
   "nbconvert_exporter": "python",
   "pygments_lexer": "ipython3",
   "version": "3.13.2"
  }
 },
 "nbformat": 4,
 "nbformat_minor": 5
}
